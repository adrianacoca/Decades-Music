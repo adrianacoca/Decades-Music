{
 "cells": [
  {
   "cell_type": "markdown",
   "metadata": {},
   "source": [
    "# New API"
   ]
  },
  {
   "cell_type": "code",
   "execution_count": 31,
   "metadata": {},
   "outputs": [],
   "source": [
    "import requests\n",
    "import os\n",
    "import json"
   ]
  },
  {
   "cell_type": "code",
   "execution_count": 32,
   "metadata": {},
   "outputs": [
    {
     "ename": "SyntaxError",
     "evalue": "unexpected EOF while parsing (<ipython-input-32-3547fe8fedf3>, line 3)",
     "output_type": "error",
     "traceback": [
      "\u001b[0;36m  File \u001b[0;32m\"<ipython-input-32-3547fe8fedf3>\"\u001b[0;36m, line \u001b[0;32m3\u001b[0m\n\u001b[0;31m    #content > table > tbody > tr:nth-child(2) > td > code -------- Artist ID\u001b[0m\n\u001b[0m                                                                             ^\u001b[0m\n\u001b[0;31mSyntaxError\u001b[0m\u001b[0;31m:\u001b[0m unexpected EOF while parsing\n"
     ]
    }
   ],
   "source": [
    "def find_mbid(artist_name):\n",
    "    #content > table > tbody > tr:nth-child(1) > td > a > bdi  ---- Artist Name\n",
    "    #content > table > tbody > tr:nth-child(2) > td > code -------- Artist ID"
   ]
  },
  {
   "cell_type": "code",
   "execution_count": 33,
   "metadata": {},
   "outputs": [],
   "source": [
    "# entity options: area, artist, event, instrument, label, place, recording, release, release-group, series, work, url\n",
    "def music_brainz(entity, mbid):\n",
    "    url = f\"http://musicbrainz.org/ws/2/{entity}/{mbid}?inc=aliases&fmt=json\"\n",
    "    res = requests.get(url)\n",
    "    return res"
   ]
  },
  {
   "cell_type": "code",
   "execution_count": 34,
   "metadata": {},
   "outputs": [],
   "source": [
    "response = music_brainz(\"artist\", \"b10bbbfc-cf9e-42e0-be17-e2c3e1d2600d\")"
   ]
  },
  {
   "cell_type": "code",
   "execution_count": 36,
   "metadata": {},
   "outputs": [],
   "source": [
    "def city(response):\n",
    "    data = response.json()\n",
    "    return data['begin_area']['sort-name']"
   ]
  },
  {
   "cell_type": "code",
   "execution_count": 37,
   "metadata": {},
   "outputs": [
    {
     "data": {
      "text/plain": [
       "'Liverpool'"
      ]
     },
     "execution_count": 37,
     "metadata": {},
     "output_type": "execute_result"
    }
   ],
   "source": [
    "city(response)"
   ]
  },
  {
   "cell_type": "markdown",
   "metadata": {},
   "source": [
    "## Top artists: \n",
    "Elton John          (12)  \n",
    "Queen               (11)  \n",
    "ABBA                (9)  \n",
    "The Beatles         (7)  \n",
    "Barbra Streisand    (6)  "
   ]
  },
  {
   "cell_type": "code",
   "execution_count": 39,
   "metadata": {},
   "outputs": [],
   "source": [
    "artist_id = {\"Elton John\":\"b83bc61f-8451-4a5d-8b8e-7e9ed295e822\",\n",
    "\"Queen\":\"0383dadf-2a4e-4d10-a46a-e9e041da8eb3\",\n",
    "\"ABBA\":\"d87e52c5-bb8d-4da8-b941-9f4928627dc8\",\n",
    "\"The Beatles\":\"b10bbbfc-cf9e-42e0-be17-e2c3e1d2600d\",\n",
    "\"Barbra Streisand\":\"56cd15a1-0d74-438b-8244-c96ffe1cae03\"   \n",
    "}"
   ]
  },
  {
   "cell_type": "code",
   "execution_count": null,
   "metadata": {},
   "outputs": [],
   "source": []
  }
 ],
 "metadata": {
  "kernelspec": {
   "display_name": "Python 3",
   "language": "python",
   "name": "python3"
  },
  "language_info": {
   "codemirror_mode": {
    "name": "ipython",
    "version": 3
   },
   "file_extension": ".py",
   "mimetype": "text/x-python",
   "name": "python",
   "nbconvert_exporter": "python",
   "pygments_lexer": "ipython3",
   "version": "3.7.7"
  }
 },
 "nbformat": 4,
 "nbformat_minor": 4
}
